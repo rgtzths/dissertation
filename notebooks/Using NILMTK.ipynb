{
 "cells": [
  {
   "cell_type": "markdown",
   "metadata": {},
   "source": [
    "## To use nilmtk first follow the READMe in the base of the git folder"
   ]
  },
  {
   "cell_type": "markdown",
   "metadata": {},
   "source": [
    "## Then you need to define an experiment."
   ]
  },
  {
   "cell_type": "code",
   "execution_count": null,
   "metadata": {},
   "outputs": [],
   "source": [
    "from nilmtk.disaggregate import CO, FHMMExact, Mean, Hart85\n",
    "\n",
    "import warnings\n",
    "warnings.filterwarnings(\"ignore\")\n",
    "\n",
    "from nilmtk.api import API"
   ]
  },
  {
   "cell_type": "markdown",
   "metadata": {},
   "source": [
    "For an experiment we only need to import the nilmtk api."
   ]
  },
  {
   "cell_type": "markdown",
   "metadata": {},
   "source": [
    "Bellow I have an example of an experiment definition"
   ]
  },
  {
   "cell_type": "code",
   "execution_count": null,
   "metadata": {},
   "outputs": [],
   "source": [
    "experiment1 = {\n",
    "  'power': {'mains': ['apparent'],'appliance': ['apparent']},\n",
    "  'sample_rate': 2,\n",
    "  'appliances': ['electric shower heater'],\n",
    "  'methods': {\"CO\":CO({}), \"Mean\":Mean({}),\"FHMM_EXACT\":FHMMExact({'num_of_states':3}), \"Hart85\":Hart85({})},\n",
    "  'train': {    \n",
    "    'datasets': {\n",
    "        'avEiro': {\n",
    "            'path': '../converters/avEiro_h5/avEiro.h5',\n",
    "            'buildings': {\n",
    "                1: {\n",
    "                    'start_time': '2020-10-01',\n",
    "                    'end_time': '2020-10-31'\n",
    "                    }\n",
    "                }                \n",
    "            }\n",
    "        }\n",
    "    },\n",
    "  'test': {\n",
    "    'datasets': {\n",
    "        'avEiro': {\n",
    "            'path': '../converters/avEiro_h5/avEiro.h5',\n",
    "            'buildings': {\n",
    "                1: {\n",
    "                    'start_time': '2020-10-31',\n",
    "                    'end_time': '2020-11-10'\n",
    "                    }\n",
    "                }\n",
    "            }\n",
    "        },\n",
    "        'metrics':['mae', 'rmse']\n",
    "    }\n",
    "}"
   ]
  },
  {
   "cell_type": "markdown",
   "metadata": {},
   "source": [
    "### The experiment as a some important things to understand\n",
    "- The \"power\" key represents the measures that will be loaded for training and testing\n",
    "    - The \"mains\" key represents the aggregated energy and the \"appliance\" key represents the appliances.\n",
    "- The \"sample_rate\" key represents the rate at which we want the samples to appear (it's important so we can use multiple datasets we the same sampling rate).\n",
    "- The \"appliances\" key represents the appliances that will be trained/tested.\n",
    "- The \"methods\" key represents the algorithms that will be trained and then compared.\n",
    "- The \"train\" key represents the data used during training.\n",
    "    - In this key we define which datasets, buildings, and timeframes we will use for training.\n",
    "- The \"test\" key represents the data used during testing and works similarly to the \"train\" key.\n",
    "    - The only diference is the \"metrics\" key which decides the metrics used to compare the algorithms.\n"
   ]
  },
  {
   "cell_type": "markdown",
   "metadata": {},
   "source": [
    "## To run the experiment and obtain its results we need to run the following piece of code."
   ]
  },
  {
   "cell_type": "code",
   "execution_count": null,
   "metadata": {},
   "outputs": [],
   "source": [
    "api_results_experiment_1 = API(experiment1)"
   ]
  },
  {
   "cell_type": "markdown",
   "metadata": {},
   "source": [
    "### If you condigured the experiment correctly and have all the packages installed this example should work."
   ]
  }
 ],
 "metadata": {
  "kernelspec": {
   "display_name": "Python 3",
   "language": "python",
   "name": "python3"
  },
  "language_info": {
   "codemirror_mode": {
    "name": "ipython",
    "version": 3
   },
   "file_extension": ".py",
   "mimetype": "text/x-python",
   "name": "python",
   "nbconvert_exporter": "python",
   "pygments_lexer": "ipython3",
   "version": "3.6.11"
  }
 },
 "nbformat": 4,
 "nbformat_minor": 4
}
